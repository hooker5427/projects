{
 "cells": [
  {
   "cell_type": "code",
   "execution_count": 1,
   "metadata": {},
   "outputs": [],
   "source": [
    "import pandas as pd \n",
    "import numpy as np \n",
    "import matplotlib.pyplot as plt \n",
    "from  sklearn.ensemble import RandomForestClassifier \n",
    "from sklearn.ensemble  import GradientBoostingClassifier \n",
    "from lightgbm import LGBMClassifier \n",
    "from  sklearn.model_selection import  train_test_split "
   ]
  },
  {
   "cell_type": "code",
   "execution_count": 2,
   "metadata": {},
   "outputs": [],
   "source": [
    "data = pd.read_csv('./preprocesss_train_test_all.csv')"
   ]
  },
  {
   "cell_type": "code",
   "execution_count": 3,
   "metadata": {},
   "outputs": [],
   "source": [
    "train_size = len(data) -2968\n",
    "train_data   = data.iloc[ 0:train_size , :]\n",
    "test_data = data.iloc[train_size: ,: ] \n",
    "train_data = train_data.drop( ['id'] ,axis =1   )\n",
    "\n",
    "test_sub= test_data.loc[ :, ['id']]\n",
    "test_data  = test_data.drop( ['id' , 'happiness' ] ,axis =1   ) "
   ]
  },
  {
   "cell_type": "code",
   "execution_count": 4,
   "metadata": {},
   "outputs": [],
   "source": [
    "y_train ,x_train =  train_data['happiness'] ,train_data.drop( 'happiness' ,axis =1 )\n",
    "x_test = test_data"
   ]
  },
  {
   "cell_type": "code",
   "execution_count": 5,
   "metadata": {},
   "outputs": [],
   "source": [
    "y_train =y_train.astype('int64') -1 "
   ]
  },
  {
   "cell_type": "code",
   "execution_count": 6,
   "metadata": {},
   "outputs": [
    {
     "name": "stdout",
     "output_type": "stream",
     "text": [
      "(6400, 133) (1600, 133) (6400,) (1600,)\n"
     ]
    }
   ],
   "source": [
    "X_train,X_valid, Y,Y_valid = train_test_split(x_train , \n",
    "                                              y_train ,\n",
    "                                              test_size = 0.2 ,\n",
    "                                              random_state  = 17  )\n",
    "print (X_train.shape , X_valid.shape , Y.shape , Y_valid.shape)"
   ]
  },
  {
   "cell_type": "code",
   "execution_count": 7,
   "metadata": {},
   "outputs": [
    {
     "name": "stdout",
     "output_type": "stream",
     "text": [
      "[SparseFeat(name='family_income_cut', vocabulary_size=6, embedding_dim=4, use_hash=False, dtype='int32', embedding_name='family_income_cut', group_name='default_group')]\n",
      "Train on 6400 samples, validate on 1600 samples\n",
      "Epoch 1/10\n"
     ]
    },
    {
     "name": "stderr",
     "output_type": "stream",
     "text": [
      "C:\\ProgramData\\Anaconda3\\envs\\tf2\\lib\\site-packages\\tensorflow_core\\python\\framework\\indexed_slices.py:433: UserWarning: Converting sparse IndexedSlices to a dense Tensor of unknown shape. This may consume a large amount of memory.\n",
      "  \"Converting sparse IndexedSlices to a dense Tensor of unknown shape. \"\n"
     ]
    },
    {
     "name": "stdout",
     "output_type": "stream",
     "text": [
      "\r",
      " 128/6400 [..............................] - ETA: 26s - loss: 8.4766 - mse: 8.4766"
     ]
    },
    {
     "name": "stderr",
     "output_type": "stream",
     "text": [
      "C:\\ProgramData\\Anaconda3\\envs\\tf2\\lib\\site-packages\\tensorflow_core\\python\\framework\\indexed_slices.py:433: UserWarning: Converting sparse IndexedSlices to a dense Tensor of unknown shape. This may consume a large amount of memory.\n",
      "  \"Converting sparse IndexedSlices to a dense Tensor of unknown shape. \"\n"
     ]
    },
    {
     "name": "stdout",
     "output_type": "stream",
     "text": [
      "6400/6400 [==============================] - 1s 126us/sample - loss: 4.8736 - mse: 4.8736 - val_loss: 0.5160 - val_mse: 0.5160\n",
      "Epoch 2/10\n",
      "6400/6400 [==============================] - 0s 19us/sample - loss: 0.4538 - mse: 0.4538 - val_loss: 0.4621 - val_mse: 0.4621\n",
      "Epoch 3/10\n",
      "6400/6400 [==============================] - 0s 23us/sample - loss: 0.4087 - mse: 0.4087 - val_loss: 0.4615 - val_mse: 0.4615\n",
      "Epoch 4/10\n",
      "6400/6400 [==============================] - 0s 19us/sample - loss: 0.4089 - mse: 0.4089 - val_loss: 0.4623 - val_mse: 0.4623\n",
      "Epoch 5/10\n",
      "6400/6400 [==============================] - 0s 22us/sample - loss: 0.4091 - mse: 0.4091 - val_loss: 0.4637 - val_mse: 0.4637\n",
      "Epoch 6/10\n",
      "6400/6400 [==============================] - 0s 25us/sample - loss: 0.4099 - mse: 0.4099 - val_loss: 0.4615 - val_mse: 0.4615\n",
      "Epoch 7/10\n",
      "6400/6400 [==============================] - 0s 15us/sample - loss: 0.4088 - mse: 0.4088 - val_loss: 0.4616 - val_mse: 0.4616\n",
      "Epoch 8/10\n",
      "6400/6400 [==============================] - 0s 15us/sample - loss: 0.4090 - mse: 0.4090 - val_loss: 0.4614 - val_mse: 0.4614\n",
      "Epoch 9/10\n",
      "6400/6400 [==============================] - 0s 15us/sample - loss: 0.4089 - mse: 0.4089 - val_loss: 0.4615 - val_mse: 0.4615\n",
      "Epoch 10/10\n",
      "6400/6400 [==============================] - 0s 16us/sample - loss: 0.4096 - mse: 0.4096 - val_loss: 0.4646 - val_mse: 0.4646\n"
     ]
    }
   ],
   "source": [
    "from deepctr.models import DeepFM\n",
    "from sklearn.preprocessing import LabelEncoder \n",
    "from deepctr.inputs import SparseFeat ,get_feature_names\n",
    "from tensorflow.keras.optimizers import SGD ,Adam\n",
    "\n",
    "# 对特征标签进行编码\n",
    "sparse_features =  X_train.columns.to_list()\n",
    "\n",
    "for feature in sparse_features:\n",
    "    lbe = LabelEncoder()\n",
    "    data[feature] = lbe.fit_transform(data[feature])\n",
    "\n",
    "fixlen_feature_columns =[]\n",
    "for  feature in sparse_features :\n",
    "# 计算每个特征中的 不同特征值的个数\n",
    "    if data[feature].nunique() > 10 :\n",
    "        embedding_dim = 8\n",
    "    else:\n",
    "        embedding_dim = data[feature].nunique() \n",
    "    fixlen_feature_columns = [SparseFeat(feature,  embedding_dim ) ]\n",
    "print(fixlen_feature_columns)\n",
    "linear_feature_columns = fixlen_feature_columns\n",
    "dnn_feature_columns = fixlen_feature_columns\n",
    "feature_names = get_feature_names(linear_feature_columns + dnn_feature_columns)\n",
    "\n",
    "\n",
    "train_model_input = {name:X_train[name].values for name in feature_names}\n",
    "valid_model_input = {name:X_valid[name].values for name in feature_names}\n",
    "\n",
    "\n",
    "# 使用DeepFM进行训练\n",
    "model = DeepFM(linear_feature_columns,\n",
    "               dnn_feature_columns  ,\n",
    "                task='regression' )\n",
    "\n",
    "model.compile('adam' , \"mse\", metrics= ['mse' ,])\n",
    "history = model.fit(train_model_input,\n",
    "                    Y.values,\n",
    "                    batch_size= 128, \n",
    "                    epochs=10,\n",
    "                    verbose=True,\n",
    "                    validation_data = (valid_model_input , Y_valid))"
   ]
  },
  {
   "cell_type": "code",
   "execution_count": 8,
   "metadata": {},
   "outputs": [
    {
     "data": {
      "image/png": "[encoded data removed]",
      "text/plain": [
       "<Figure size 576x360 with 1 Axes>"
      ]
     },
     "metadata": {
      "needs_background": "light"
     },
     "output_type": "display_data"
    }
   ],
   "source": [
    "def plot_learning_curves(history):\n",
    "    pd.DataFrame(history.history).plot(figsize=(8, 5))\n",
    "    plt.grid(True)\n",
    "    plt.gca().set_ylim(0, 1 )\n",
    "    plt.show()\n",
    "\n",
    "plot_learning_curves(history)"
   ]
  },
  {
   "cell_type": "code",
   "execution_count": 9,
   "metadata": {},
   "outputs": [
    {
     "data": {
      "text/plain": [
       "array([2.9547682, 2.8957386, 2.9547682, ..., 2.9547682, 2.9547682,\n",
       "       3.0567198], dtype=float32)"
      ]
     },
     "execution_count": 9,
     "metadata": {},
     "output_type": "execute_result"
    }
   ],
   "source": [
    "test_input = {name:x_test[name].values for name in feature_names}\n",
    "predcit_deepfm = model.predict(test_input ,batch_size=  128)\n",
    "predcit_deepfm = predcit_deepfm.ravel()\n",
    "predcit_deepfm"
   ]
  },
  {
   "cell_type": "code",
   "execution_count": 12,
   "metadata": {},
   "outputs": [],
   "source": [
    "result=list(predcit_deepfm)\n",
    "result=list(map(lambda x: x + 1, result))\n",
    "test_sub[\"happiness\"]=result\n",
    "test_sub.to_csv(\"submit_01.csv\", index=False)"
   ]
  },
  {
   "cell_type": "code",
   "execution_count": 13,
   "metadata": {},
   "outputs": [
    {
     "data": {
      "text/html": [
       "<div>\n",
       "<style scoped>\n",
       "    .dataframe tbody tr th:only-of-type {\n",
       "        vertical-align: middle;\n",
       "    }\n",
       "\n",
       "    .dataframe tbody tr th {\n",
       "        vertical-align: top;\n",
       "    }\n",
       "\n",
       "    .dataframe thead th {\n",
       "        text-align: right;\n",
       "    }\n",
       "</style>\n",
       "<table border=\"1\" class=\"dataframe\">\n",
       "  <thead>\n",
       "    <tr style=\"text-align: right;\">\n",
       "      <th></th>\n",
       "      <th>id</th>\n",
       "      <th>happiness</th>\n",
       "    </tr>\n",
       "  </thead>\n",
       "  <tbody>\n",
       "    <tr>\n",
       "      <th>8000</th>\n",
       "      <td>8001</td>\n",
       "      <td>3.954768</td>\n",
       "    </tr>\n",
       "    <tr>\n",
       "      <th>8001</th>\n",
       "      <td>8002</td>\n",
       "      <td>3.895739</td>\n",
       "    </tr>\n",
       "    <tr>\n",
       "      <th>8002</th>\n",
       "      <td>8003</td>\n",
       "      <td>3.954768</td>\n",
       "    </tr>\n",
       "    <tr>\n",
       "      <th>8003</th>\n",
       "      <td>8004</td>\n",
       "      <td>4.056720</td>\n",
       "    </tr>\n",
       "    <tr>\n",
       "      <th>8004</th>\n",
       "      <td>8005</td>\n",
       "      <td>3.954768</td>\n",
       "    </tr>\n",
       "    <tr>\n",
       "      <th>...</th>\n",
       "      <td>...</td>\n",
       "      <td>...</td>\n",
       "    </tr>\n",
       "    <tr>\n",
       "      <th>10963</th>\n",
       "      <td>10964</td>\n",
       "      <td>3.954768</td>\n",
       "    </tr>\n",
       "    <tr>\n",
       "      <th>10964</th>\n",
       "      <td>10965</td>\n",
       "      <td>3.895739</td>\n",
       "    </tr>\n",
       "    <tr>\n",
       "      <th>10965</th>\n",
       "      <td>10966</td>\n",
       "      <td>3.954768</td>\n",
       "    </tr>\n",
       "    <tr>\n",
       "      <th>10966</th>\n",
       "      <td>10967</td>\n",
       "      <td>3.954768</td>\n",
       "    </tr>\n",
       "    <tr>\n",
       "      <th>10967</th>\n",
       "      <td>10968</td>\n",
       "      <td>4.056720</td>\n",
       "    </tr>\n",
       "  </tbody>\n",
       "</table>\n",
       "<p>2968 rows × 2 columns</p>\n",
       "</div>"
      ],
      "text/plain": [
       "          id  happiness\n",
       "8000    8001   3.954768\n",
       "8001    8002   3.895739\n",
       "8002    8003   3.954768\n",
       "8003    8004   4.056720\n",
       "8004    8005   3.954768\n",
       "...      ...        ...\n",
       "10963  10964   3.954768\n",
       "10964  10965   3.895739\n",
       "10965  10966   3.954768\n",
       "10966  10967   3.954768\n",
       "10967  10968   4.056720\n",
       "\n",
       "[2968 rows x 2 columns]"
      ]
     },
     "execution_count": 13,
     "metadata": {},
     "output_type": "execute_result"
    }
   ],
   "source": [
    "test_sub"
   ]
  },
  {
   "cell_type": "code",
   "execution_count": null,
   "metadata": {},
   "outputs": [],
   "source": []
  }
 ],
 "metadata": {
  "kernelspec": {
   "display_name": "tensorflow2.1",
   "language": "python",
   "name": "tf2"
  },
  "language_info": {
   "codemirror_mode": {
    "name": "ipython",
    "version": 3
   },
   "file_extension": ".py",
   "mimetype": "text/x-python",
   "name": "python",
   "nbconvert_exporter": "python",
   "pygments_lexer": "ipython3",
   "version": "3.7.0"
  }
 },
 "nbformat": 4,
 "nbformat_minor": 4
}
